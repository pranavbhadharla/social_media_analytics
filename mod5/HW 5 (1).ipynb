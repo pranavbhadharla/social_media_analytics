{
 "cells": [
  {
   "cell_type": "code",
   "execution_count": 1,
   "id": "11ef0b3d",
   "metadata": {},
   "outputs": [],
   "source": [
    "!pip install NetworkX\n",
    "import networkx as nx\n",
    "import numpy as np\n",
    "import pandas as pd"
   ]
  },
  {
   "cell_type": "code",
   "execution_count": 2,
   "id": "a91b8c0f",
   "metadata": {},
   "outputs": [],
   "source": [
    "#using a dataset from my Reddit Datamine since it had a lot of interesting data to use \n",
    "# link to the notebook where this data was pulled from\n",
    "# https://github.com/pranavbhadharla/social_media_analytics/blob/main/hw2/Reddit_Search%20NFL%20Bets%20(1).ipynb\n",
    "df_comments = pd.read_csv('REDDIT_COMMENTS_2022-09-10T16-48-26-0400.csv')"
   ]
  },
  {
   "cell_type": "code",
   "execution_count": 9,
   "id": "e37557d3",
   "metadata": {},
   "outputs": [],
   "source": [
    "# df of all comments from the most popular sportsbook\n",
    "df = df_comments[df_comments[\"subreddit\"]=='sportsbook']"
   ]
  },
  {
   "cell_type": "markdown",
   "id": "4430cf3f",
   "metadata": {},
   "source": [
    "# The main goal that we have is to see what subbreddits are connected through users. Some other matrixes are being created for potential future calculations \n"
   ]
  },
  {
   "cell_type": "code",
   "execution_count": 53,
   "id": "0661c517",
   "metadata": {},
   "outputs": [
    {
     "data": {
      "text/plain": [
       "(38, 819)"
      ]
     },
     "execution_count": 53,
     "metadata": {},
     "output_type": "execute_result"
    }
   ],
   "source": [
    "# matrix of posts to authors\n",
    "df_posts_to_author = pd.crosstab(df.post_id, df.comment_author)\n",
    "# matrix of subbredit to posts \n",
    "df_posts_to_subreddit = pd.crosstab(df.subreddit,df.post_id)\n",
    "# getting shape to make sure matrix multiplication is being done right\n",
    "df_posts_to_subreddit.shape"
   ]
  },
  {
   "cell_type": "code",
   "execution_count": 13,
   "id": "bf4bfa0e",
   "metadata": {},
   "outputs": [
    {
     "name": "stderr",
     "output_type": "stream",
     "text": [
      "/var/folders/q1/k8xy5vbn4mvb32fd180tdqk80000gn/T/ipykernel_46217/3723218645.py:1: FutureWarning: Calling a ufunc on non-aligned DataFrames (or DataFrame/Series combination). Currently, the indices are ignored and the result takes the index/columns of the first DataFrame. In the future , the DataFrames/Series will be aligned before applying the ufunc.\n",
      "Convert one of the arguments to a NumPy array (eg 'ufunc(df1, np.asarray(df2)') to keep the current behaviour, or align manually (eg 'df1, df2 = df1.align(df2)') before passing to the ufunc to obtain the future behaviour and silence this warning.\n",
      "  df_subreddit_to_author=np.matmul(df_posts_to_subreddit,df_posts_to_author)\n"
     ]
    }
   ],
   "source": [
    "# multiplying previous matrixes to get posts to subreddit matrix. \n",
    "# While this could have been done straight between the two, I wanted the other relations in case I wanted\n",
    "# to explore other realtionships\n",
    "df_subreddit_to_author=np.matmul(df_posts_to_subreddit,df_posts_to_author)"
   ]
  },
  {
   "cell_type": "code",
   "execution_count": 14,
   "id": "a5a0bb75",
   "metadata": {},
   "outputs": [
    {
     "name": "stderr",
     "output_type": "stream",
     "text": [
      "/var/folders/q1/k8xy5vbn4mvb32fd180tdqk80000gn/T/ipykernel_46217/2039454993.py:1: FutureWarning: Calling a ufunc on non-aligned DataFrames (or DataFrame/Series combination). Currently, the indices are ignored and the result takes the index/columns of the first DataFrame. In the future , the DataFrames/Series will be aligned before applying the ufunc.\n",
      "Convert one of the arguments to a NumPy array (eg 'ufunc(df1, np.asarray(df2)') to keep the current behaviour, or align manually (eg 'df1, df2 = df1.align(df2)') before passing to the ufunc to obtain the future behaviour and silence this warning.\n",
      "  df_subreddit_to_author_squared=np.matmul(df_subreddit_to_author,np.transpose(df_subreddit_to_author))\n"
     ]
    }
   ],
   "source": [
    "# multiplying the matrix by its transpose to get the subbreddit to subreddit relationship\n",
    "df_subreddit_to_author_squared=np.matmul(df_subreddit_to_author,np.transpose(df_subreddit_to_author))"
   ]
  },
  {
   "cell_type": "code",
   "execution_count": 17,
   "id": "05223b9b",
   "metadata": {},
   "outputs": [
    {
     "data": {
      "text/plain": [
       "Index(['AmItheAsshole', 'AroundTheNFL', 'BettingPicks', 'DKNG',\n",
       "       'DraftKingsDiscussion', 'DynastyFF', 'G101SafeHaven',\n",
       "       'GamblingAddiction', 'GetSporttrade', 'GreenBayPackers', 'LasVegas',\n",
       "       'NFLBETS', 'PatMcAfeeShowOfficial', 'PickleFinancial', 'SRTBets',\n",
       "       'Saints', 'StockMarketChat', 'TimDillon', 'billsimmons', 'cordcutters',\n",
       "       'dfsports', 'eagles', 'falcons', 'fanduel', 'fantasyfootball',\n",
       "       'findaleague', 'gambling', 'kansascity', 'nfl', 'oslo', 'shavingpoints',\n",
       "       'sofi', 'sportsbetting', 'sportsbettingag', 'sportsbook',\n",
       "       'sportsgambling', 'steelers', 'vegas'],\n",
       "      dtype='object', name='subreddit')"
      ]
     },
     "execution_count": 17,
     "metadata": {},
     "output_type": "execute_result"
    }
   ],
   "source": [
    "df_subreddit_to_author_squared.index"
   ]
  },
  {
   "cell_type": "code",
   "execution_count": 54,
   "id": "fda116c4",
   "metadata": {},
   "outputs": [],
   "source": [
    "# ensuring labels are correct\n",
    "df_final = pd.DataFrame(df_subreddit_to_author_squared.values,index=df_subreddit_to_author_squared.index \\\n",
    "                        ,columns=df_subreddit_to_author_squared.index)"
   ]
  },
  {
   "cell_type": "code",
   "execution_count": 48,
   "id": "2c868b52",
   "metadata": {},
   "outputs": [],
   "source": [
    "# getting only the top subreddits since there are so many\n",
    "columns=df_final.sum(axis = 1, skipna = True)>10000\n",
    "columns=columns.index[columns==True]\n"
   ]
  },
  {
   "cell_type": "code",
   "execution_count": 49,
   "id": "5d7bec5b",
   "metadata": {},
   "outputs": [
    {
     "data": {
      "text/html": [
       "<div>\n",
       "<style scoped>\n",
       "    .dataframe tbody tr th:only-of-type {\n",
       "        vertical-align: middle;\n",
       "    }\n",
       "\n",
       "    .dataframe tbody tr th {\n",
       "        vertical-align: top;\n",
       "    }\n",
       "\n",
       "    .dataframe thead th {\n",
       "        text-align: right;\n",
       "    }\n",
       "</style>\n",
       "<table border=\"1\" class=\"dataframe\">\n",
       "  <thead>\n",
       "    <tr style=\"text-align: right;\">\n",
       "      <th>subreddit</th>\n",
       "      <th>AmItheAsshole</th>\n",
       "      <th>PatMcAfeeShowOfficial</th>\n",
       "      <th>PickleFinancial</th>\n",
       "      <th>SRTBets</th>\n",
       "      <th>billsimmons</th>\n",
       "      <th>cordcutters</th>\n",
       "      <th>eagles</th>\n",
       "      <th>falcons</th>\n",
       "      <th>fantasyfootball</th>\n",
       "      <th>kansascity</th>\n",
       "      <th>nfl</th>\n",
       "      <th>sportsbetting</th>\n",
       "      <th>sportsbook</th>\n",
       "    </tr>\n",
       "    <tr>\n",
       "      <th>subreddit</th>\n",
       "      <th></th>\n",
       "      <th></th>\n",
       "      <th></th>\n",
       "      <th></th>\n",
       "      <th></th>\n",
       "      <th></th>\n",
       "      <th></th>\n",
       "      <th></th>\n",
       "      <th></th>\n",
       "      <th></th>\n",
       "      <th></th>\n",
       "      <th></th>\n",
       "      <th></th>\n",
       "    </tr>\n",
       "  </thead>\n",
       "  <tbody>\n",
       "    <tr>\n",
       "      <th>AmItheAsshole</th>\n",
       "      <td>15625</td>\n",
       "      <td>0</td>\n",
       "      <td>0</td>\n",
       "      <td>0</td>\n",
       "      <td>0</td>\n",
       "      <td>0</td>\n",
       "      <td>575</td>\n",
       "      <td>0</td>\n",
       "      <td>0</td>\n",
       "      <td>0</td>\n",
       "      <td>0</td>\n",
       "      <td>0</td>\n",
       "      <td>0</td>\n",
       "    </tr>\n",
       "    <tr>\n",
       "      <th>PatMcAfeeShowOfficial</th>\n",
       "      <td>0</td>\n",
       "      <td>1331</td>\n",
       "      <td>0</td>\n",
       "      <td>0</td>\n",
       "      <td>0</td>\n",
       "      <td>187</td>\n",
       "      <td>0</td>\n",
       "      <td>242</td>\n",
       "      <td>165</td>\n",
       "      <td>77</td>\n",
       "      <td>2090</td>\n",
       "      <td>0</td>\n",
       "      <td>681593</td>\n",
       "    </tr>\n",
       "    <tr>\n",
       "      <th>PickleFinancial</th>\n",
       "      <td>0</td>\n",
       "      <td>0</td>\n",
       "      <td>10648</td>\n",
       "      <td>0</td>\n",
       "      <td>0</td>\n",
       "      <td>0</td>\n",
       "      <td>0</td>\n",
       "      <td>0</td>\n",
       "      <td>0</td>\n",
       "      <td>0</td>\n",
       "      <td>0</td>\n",
       "      <td>0</td>\n",
       "      <td>0</td>\n",
       "    </tr>\n",
       "    <tr>\n",
       "      <th>SRTBets</th>\n",
       "      <td>0</td>\n",
       "      <td>0</td>\n",
       "      <td>0</td>\n",
       "      <td>16</td>\n",
       "      <td>0</td>\n",
       "      <td>0</td>\n",
       "      <td>0</td>\n",
       "      <td>0</td>\n",
       "      <td>0</td>\n",
       "      <td>0</td>\n",
       "      <td>0</td>\n",
       "      <td>0</td>\n",
       "      <td>12376</td>\n",
       "    </tr>\n",
       "    <tr>\n",
       "      <th>billsimmons</th>\n",
       "      <td>0</td>\n",
       "      <td>0</td>\n",
       "      <td>0</td>\n",
       "      <td>0</td>\n",
       "      <td>11616</td>\n",
       "      <td>0</td>\n",
       "      <td>0</td>\n",
       "      <td>0</td>\n",
       "      <td>0</td>\n",
       "      <td>0</td>\n",
       "      <td>0</td>\n",
       "      <td>0</td>\n",
       "      <td>506</td>\n",
       "    </tr>\n",
       "    <tr>\n",
       "      <th>cordcutters</th>\n",
       "      <td>0</td>\n",
       "      <td>187</td>\n",
       "      <td>0</td>\n",
       "      <td>0</td>\n",
       "      <td>0</td>\n",
       "      <td>5038</td>\n",
       "      <td>0</td>\n",
       "      <td>374</td>\n",
       "      <td>255</td>\n",
       "      <td>119</td>\n",
       "      <td>3230</td>\n",
       "      <td>0</td>\n",
       "      <td>1053371</td>\n",
       "    </tr>\n",
       "    <tr>\n",
       "      <th>eagles</th>\n",
       "      <td>575</td>\n",
       "      <td>0</td>\n",
       "      <td>0</td>\n",
       "      <td>0</td>\n",
       "      <td>0</td>\n",
       "      <td>0</td>\n",
       "      <td>13225</td>\n",
       "      <td>0</td>\n",
       "      <td>0</td>\n",
       "      <td>0</td>\n",
       "      <td>0</td>\n",
       "      <td>0</td>\n",
       "      <td>0</td>\n",
       "    </tr>\n",
       "    <tr>\n",
       "      <th>falcons</th>\n",
       "      <td>0</td>\n",
       "      <td>242</td>\n",
       "      <td>0</td>\n",
       "      <td>0</td>\n",
       "      <td>0</td>\n",
       "      <td>374</td>\n",
       "      <td>0</td>\n",
       "      <td>11624</td>\n",
       "      <td>330</td>\n",
       "      <td>154</td>\n",
       "      <td>4180</td>\n",
       "      <td>0</td>\n",
       "      <td>1363186</td>\n",
       "    </tr>\n",
       "    <tr>\n",
       "      <th>fantasyfootball</th>\n",
       "      <td>0</td>\n",
       "      <td>165</td>\n",
       "      <td>0</td>\n",
       "      <td>0</td>\n",
       "      <td>0</td>\n",
       "      <td>255</td>\n",
       "      <td>0</td>\n",
       "      <td>330</td>\n",
       "      <td>82882</td>\n",
       "      <td>105</td>\n",
       "      <td>2850</td>\n",
       "      <td>0</td>\n",
       "      <td>976358</td>\n",
       "    </tr>\n",
       "    <tr>\n",
       "      <th>kansascity</th>\n",
       "      <td>0</td>\n",
       "      <td>77</td>\n",
       "      <td>0</td>\n",
       "      <td>0</td>\n",
       "      <td>0</td>\n",
       "      <td>119</td>\n",
       "      <td>0</td>\n",
       "      <td>154</td>\n",
       "      <td>105</td>\n",
       "      <td>343</td>\n",
       "      <td>1330</td>\n",
       "      <td>0</td>\n",
       "      <td>433741</td>\n",
       "    </tr>\n",
       "    <tr>\n",
       "      <th>nfl</th>\n",
       "      <td>0</td>\n",
       "      <td>2090</td>\n",
       "      <td>0</td>\n",
       "      <td>0</td>\n",
       "      <td>0</td>\n",
       "      <td>3230</td>\n",
       "      <td>0</td>\n",
       "      <td>4180</td>\n",
       "      <td>2850</td>\n",
       "      <td>1330</td>\n",
       "      <td>875489</td>\n",
       "      <td>0</td>\n",
       "      <td>11829020</td>\n",
       "    </tr>\n",
       "    <tr>\n",
       "      <th>sportsbetting</th>\n",
       "      <td>0</td>\n",
       "      <td>0</td>\n",
       "      <td>0</td>\n",
       "      <td>0</td>\n",
       "      <td>0</td>\n",
       "      <td>0</td>\n",
       "      <td>0</td>\n",
       "      <td>0</td>\n",
       "      <td>0</td>\n",
       "      <td>0</td>\n",
       "      <td>0</td>\n",
       "      <td>1509</td>\n",
       "      <td>9193</td>\n",
       "    </tr>\n",
       "    <tr>\n",
       "      <th>sportsbook</th>\n",
       "      <td>0</td>\n",
       "      <td>681593</td>\n",
       "      <td>0</td>\n",
       "      <td>12376</td>\n",
       "      <td>506</td>\n",
       "      <td>1053371</td>\n",
       "      <td>0</td>\n",
       "      <td>1363186</td>\n",
       "      <td>976358</td>\n",
       "      <td>433741</td>\n",
       "      <td>11829020</td>\n",
       "      <td>9193</td>\n",
       "      <td>32900459258</td>\n",
       "    </tr>\n",
       "  </tbody>\n",
       "</table>\n",
       "</div>"
      ],
      "text/plain": [
       "subreddit              AmItheAsshole  PatMcAfeeShowOfficial  PickleFinancial  \\\n",
       "subreddit                                                                      \n",
       "AmItheAsshole                  15625                      0                0   \n",
       "PatMcAfeeShowOfficial              0                   1331                0   \n",
       "PickleFinancial                    0                      0            10648   \n",
       "SRTBets                            0                      0                0   \n",
       "billsimmons                        0                      0                0   \n",
       "cordcutters                        0                    187                0   \n",
       "eagles                           575                      0                0   \n",
       "falcons                            0                    242                0   \n",
       "fantasyfootball                    0                    165                0   \n",
       "kansascity                         0                     77                0   \n",
       "nfl                                0                   2090                0   \n",
       "sportsbetting                      0                      0                0   \n",
       "sportsbook                         0                 681593                0   \n",
       "\n",
       "subreddit              SRTBets  billsimmons  cordcutters  eagles  falcons  \\\n",
       "subreddit                                                                   \n",
       "AmItheAsshole                0            0            0     575        0   \n",
       "PatMcAfeeShowOfficial        0            0          187       0      242   \n",
       "PickleFinancial              0            0            0       0        0   \n",
       "SRTBets                     16            0            0       0        0   \n",
       "billsimmons                  0        11616            0       0        0   \n",
       "cordcutters                  0            0         5038       0      374   \n",
       "eagles                       0            0            0   13225        0   \n",
       "falcons                      0            0          374       0    11624   \n",
       "fantasyfootball              0            0          255       0      330   \n",
       "kansascity                   0            0          119       0      154   \n",
       "nfl                          0            0         3230       0     4180   \n",
       "sportsbetting                0            0            0       0        0   \n",
       "sportsbook               12376          506      1053371       0  1363186   \n",
       "\n",
       "subreddit              fantasyfootball  kansascity       nfl  sportsbetting  \\\n",
       "subreddit                                                                     \n",
       "AmItheAsshole                        0           0         0              0   \n",
       "PatMcAfeeShowOfficial              165          77      2090              0   \n",
       "PickleFinancial                      0           0         0              0   \n",
       "SRTBets                              0           0         0              0   \n",
       "billsimmons                          0           0         0              0   \n",
       "cordcutters                        255         119      3230              0   \n",
       "eagles                               0           0         0              0   \n",
       "falcons                            330         154      4180              0   \n",
       "fantasyfootball                  82882         105      2850              0   \n",
       "kansascity                         105         343      1330              0   \n",
       "nfl                               2850        1330    875489              0   \n",
       "sportsbetting                        0           0         0           1509   \n",
       "sportsbook                      976358      433741  11829020           9193   \n",
       "\n",
       "subreddit               sportsbook  \n",
       "subreddit                           \n",
       "AmItheAsshole                    0  \n",
       "PatMcAfeeShowOfficial       681593  \n",
       "PickleFinancial                  0  \n",
       "SRTBets                      12376  \n",
       "billsimmons                    506  \n",
       "cordcutters                1053371  \n",
       "eagles                           0  \n",
       "falcons                    1363186  \n",
       "fantasyfootball             976358  \n",
       "kansascity                  433741  \n",
       "nfl                       11829020  \n",
       "sportsbetting                 9193  \n",
       "sportsbook             32900459258  "
      ]
     },
     "execution_count": 49,
     "metadata": {},
     "output_type": "execute_result"
    }
   ],
   "source": [
    "df_final=pd.DataFrame(df_final,index=columns,columns=columns)\n",
    "df_final"
   ]
  },
  {
   "cell_type": "code",
   "execution_count": 50,
   "id": "02e8f805",
   "metadata": {},
   "outputs": [
    {
     "name": "stdout",
     "output_type": "stream",
     "text": [
      "Requirement already satisfied: pandas in /Users/pranavbhadharla/opt/anaconda3/lib/python3.9/site-packages (1.5.0)\n",
      "Requirement already satisfied: python-dateutil>=2.8.1 in /Users/pranavbhadharla/opt/anaconda3/lib/python3.9/site-packages (from pandas) (2.8.2)\n",
      "Requirement already satisfied: pytz>=2020.1 in /Users/pranavbhadharla/opt/anaconda3/lib/python3.9/site-packages (from pandas) (2021.3)\n",
      "Requirement already satisfied: numpy>=1.20.3 in /Users/pranavbhadharla/opt/anaconda3/lib/python3.9/site-packages (from pandas) (1.21.5)\n",
      "Requirement already satisfied: six>=1.5 in /Users/pranavbhadharla/opt/anaconda3/lib/python3.9/site-packages (from python-dateutil>=2.8.1->pandas) (1.16.0)\n",
      "Note: you may need to restart the kernel to use updated packages.\n"
     ]
    }
   ],
   "source": [
    "pip install --upgrade pandas"
   ]
  },
  {
   "cell_type": "code",
   "execution_count": 51,
   "id": "9a72b785",
   "metadata": {},
   "outputs": [],
   "source": [
    "G = nx.from_pandas_adjacency(df_final)"
   ]
  },
  {
   "cell_type": "code",
   "execution_count": 52,
   "id": "d5f320cc",
   "metadata": {},
   "outputs": [
    {
     "data": {
      "text/plain": [
       "{'AmItheAsshole': Text(1.0, -2.292486274449103e-09, 'AmItheAsshole'),\n",
       " 'PatMcAfeeShowOfficial': Text(0.8854560287515193, 0.4647231547266753, 'PatMcAfeeShowOfficial'),\n",
       " 'PickleFinancial': Text(0.5680647611233429, 0.8229838360369068, 'PickleFinancial'),\n",
       " 'SRTBets': Text(0.12053670918382015, 0.992708832226107, 'SRTBets'),\n",
       " 'billsimmons': Text(-0.3546048030136695, 0.9350162464375796, 'billsimmons'),\n",
       " 'cordcutters': Text(-0.7485107298490434, 0.6631226334263005, 'cordcutters'),\n",
       " 'eagles': Text(-0.9709417873820401, 0.23931566483289468, 'eagles'),\n",
       " 'falcons': Text(-0.9709417873820401, -0.2393156098132241, 'falcons'),\n",
       " 'fantasyfootball': Text(-0.7485107894536865, -0.6631225784066298, 'fantasyfootball'),\n",
       " 'kansascity': Text(-0.35460498182759886, -0.9350161914179089, 'kansascity'),\n",
       " 'nfl': Text(0.12053676878846328, -0.9927088368110795, 'nfl'),\n",
       " 'sportsbetting': Text(0.5680645823094135, -0.8229839598311656, 'sportsbetting'),\n",
       " 'sportsbook': Text(0.8854560287515193, -0.46472318911396937, 'sportsbook')}"
      ]
     },
     "execution_count": 52,
     "metadata": {},
     "output_type": "execute_result"
    },
    {
     "data": {
      "image/png": "[encoded data removed]",
      "text/plain": [
       "<Figure size 432x288 with 1 Axes>"
      ]
     },
     "metadata": {},
     "output_type": "display_data"
    }
   ],
   "source": [
    "# graphing graph with circular layout to see all relationships\n",
    "pos = nx.circular_layout(G)\n",
    "nx.draw(G, pos=pos)\n",
    "nx.draw_networkx_labels(G,pos)"
   ]
  },
  {
   "cell_type": "code",
   "execution_count": null,
   "id": "a7a88ac2",
   "metadata": {},
   "outputs": [],
   "source": []
  }
 ],
 "metadata": {
  "kernelspec": {
   "display_name": "Python 3 (ipykernel)",
   "language": "python",
   "name": "python3"
  },
  "language_info": {
   "codemirror_mode": {
    "name": "ipython",
    "version": 3
   },
   "file_extension": ".py",
   "mimetype": "text/x-python",
   "name": "python",
   "nbconvert_exporter": "python",
   "pygments_lexer": "ipython3",
   "version": "3.9.12"
  }
 },
 "nbformat": 4,
 "nbformat_minor": 5
}
