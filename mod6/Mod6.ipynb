{
 "cells": [
  {
   "cell_type": "code",
   "execution_count": 7,
   "id": "6695d79f",
   "metadata": {},
   "outputs": [],
   "source": [
    "import pandas as pd\n",
    "import sklearn as sklearn\n",
    "import numpy as np\n",
    "import nltk"
   ]
  },
  {
   "cell_type": "code",
   "execution_count": 29,
   "id": "4e24fb88",
   "metadata": {},
   "outputs": [
    {
     "name": "stderr",
     "output_type": "stream",
     "text": [
      "[nltk_data] Downloading package punkt to\n",
      "[nltk_data]     /Users/pranavbhadharla/nltk_data...\n",
      "[nltk_data]   Unzipping tokenizers/punkt.zip.\n"
     ]
    },
    {
     "data": {
      "text/plain": [
       "True"
      ]
     },
     "execution_count": 29,
     "metadata": {},
     "output_type": "execute_result"
    }
   ],
   "source": [
    "nltk.download('punkt')"
   ]
  },
  {
   "cell_type": "code",
   "execution_count": 8,
   "id": "43416c23",
   "metadata": {},
   "outputs": [],
   "source": [
    "# reading in reddit data\n",
    "df=pd.read_csv('REDDIT_COMMENTS_2022-09-10T16-48-26-0400 (2).csv')"
   ]
  },
  {
   "cell_type": "code",
   "execution_count": 11,
   "id": "237d42b8",
   "metadata": {},
   "outputs": [],
   "source": [
    "# df of the comments which holds the most text data\n",
    "comments=df[\"comment_body\"]"
   ]
  },
  {
   "cell_type": "code",
   "execution_count": 21,
   "id": "25b88fab",
   "metadata": {},
   "outputs": [
    {
     "data": {
      "text/plain": [
       "str"
      ]
     },
     "execution_count": 21,
     "metadata": {},
     "output_type": "execute_result"
    }
   ],
   "source": [
    "# making sure the data types are correct\n",
    "type(comments[0])"
   ]
  },
  {
   "cell_type": "code",
   "execution_count": 32,
   "id": "175a9867",
   "metadata": {},
   "outputs": [],
   "source": [
    "# tokenizing the comments by word\n",
    "words=[]\n",
    "for i in range(len(comments)):\n",
    "    words.append(nltk.word_tokenize(comments[i]))"
   ]
  },
  {
   "cell_type": "code",
   "execution_count": 54,
   "id": "6a50259e",
   "metadata": {},
   "outputs": [],
   "source": [
    "from nltk.stem import *\n",
    "from nltk.stem import *"
   ]
  },
  {
   "cell_type": "code",
   "execution_count": 55,
   "id": "745a83fe",
   "metadata": {},
   "outputs": [],
   "source": [
    "# setting the function\n",
    "stemmer = PorterStemmer()"
   ]
  },
  {
   "cell_type": "code",
   "execution_count": 61,
   "id": "ef467154",
   "metadata": {},
   "outputs": [],
   "source": [
    "# stemming the words one by one\n",
    "stemmed_words=[]\n",
    "for i in range(len(words)):\n",
    "    for j in range(len(words[i])):\n",
    "        stemmed_words.append(stemmer.stem(words[i][j]))"
   ]
  },
  {
   "cell_type": "code",
   "execution_count": 44,
   "id": "9423485d",
   "metadata": {},
   "outputs": [
    {
     "name": "stderr",
     "output_type": "stream",
     "text": [
      "[nltk_data] Downloading package wordnet to\n",
      "[nltk_data]     /Users/pranavbhadharla/nltk_data...\n",
      "[nltk_data]   Package wordnet is already up-to-date!\n",
      "[nltk_data] Downloading package omw-1.4 to\n",
      "[nltk_data]     /Users/pranavbhadharla/nltk_data...\n"
     ]
    },
    {
     "data": {
      "text/plain": [
       "True"
      ]
     },
     "execution_count": 44,
     "metadata": {},
     "output_type": "execute_result"
    }
   ],
   "source": [
    "from nltk.stem import WordNetLemmatizer  \n",
    "import nltk\n",
    "nltk.download('wordnet')\n",
    "lemmatizer = WordNetLemmatizer()\n",
    "nltk.download('omw-1.4')"
   ]
  },
  {
   "cell_type": "code",
   "execution_count": 73,
   "id": "3fab9c17",
   "metadata": {},
   "outputs": [],
   "source": [
    "# lemmatizing words one by one\n",
    "lemmatized_words=[]\n",
    "for i in range(len(stemmed_words)):\n",
    "        lemmatized_words.append(lemmatizer.lemmatize(stemmed_words[i]))"
   ]
  },
  {
   "cell_type": "code",
   "execution_count": 77,
   "id": "d2fcd67b",
   "metadata": {},
   "outputs": [],
   "source": [
    "# checking output and turning it into a csv\n",
    "type(lemmatized_words)\n",
    "np.savetxt(\"nlp.csv\", lemmatized_words, delimiter=\", \", fmt=\"% s\")"
   ]
  },
  {
   "cell_type": "code",
   "execution_count": null,
   "id": "e2e5742e",
   "metadata": {},
   "outputs": [],
   "source": [
    "# write up in seperate pdf file"
   ]
  }
 ],
 "metadata": {
  "kernelspec": {
   "display_name": "Python 3 (ipykernel)",
   "language": "python",
   "name": "python3"
  },
  "language_info": {
   "codemirror_mode": {
    "name": "ipython",
    "version": 3
   },
   "file_extension": ".py",
   "mimetype": "text/x-python",
   "name": "python",
   "nbconvert_exporter": "python",
   "pygments_lexer": "ipython3",
   "version": "3.9.12"
  }
 },
 "nbformat": 4,
 "nbformat_minor": 5
}
