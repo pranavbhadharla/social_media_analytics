{
 "cells": [
  {
   "cell_type": "code",
   "execution_count": 1,
   "metadata": {
    "colab": {
     "base_uri": "https://localhost:8080/"
    },
    "id": "rj8bSR4t1OaN",
    "outputId": "76cdf065-83e7-4a2d-b803-dd03d2300a20"
   },
   "outputs": [
    {
     "name": "stdout",
     "output_type": "stream",
     "text": [
      "Requirement already satisfied: python-twitter in /Users/pranavbhadharla/opt/anaconda3/lib/python3.9/site-packages (3.5)\n",
      "Requirement already satisfied: requests-oauthlib in /Users/pranavbhadharla/opt/anaconda3/lib/python3.9/site-packages (from python-twitter) (1.3.1)\n",
      "Requirement already satisfied: requests in /Users/pranavbhadharla/opt/anaconda3/lib/python3.9/site-packages (from python-twitter) (2.27.1)\n",
      "Requirement already satisfied: future in /Users/pranavbhadharla/opt/anaconda3/lib/python3.9/site-packages (from python-twitter) (0.18.2)\n",
      "Requirement already satisfied: idna<4,>=2.5 in /Users/pranavbhadharla/opt/anaconda3/lib/python3.9/site-packages (from requests->python-twitter) (3.3)\n",
      "Requirement already satisfied: charset-normalizer~=2.0.0 in /Users/pranavbhadharla/opt/anaconda3/lib/python3.9/site-packages (from requests->python-twitter) (2.0.4)\n",
      "Requirement already satisfied: urllib3<1.27,>=1.21.1 in /Users/pranavbhadharla/opt/anaconda3/lib/python3.9/site-packages (from requests->python-twitter) (1.26.9)\n",
      "Requirement already satisfied: certifi>=2017.4.17 in /Users/pranavbhadharla/opt/anaconda3/lib/python3.9/site-packages (from requests->python-twitter) (2021.10.8)\n",
      "Requirement already satisfied: oauthlib>=3.0.0 in /Users/pranavbhadharla/opt/anaconda3/lib/python3.9/site-packages (from requests-oauthlib->python-twitter) (3.2.1)\n",
      "Note: you may need to restart the kernel to use updated packages.\n"
     ]
    }
   ],
   "source": [
    "pip install python-twitter"
   ]
  },
  {
   "cell_type": "code",
   "execution_count": 2,
   "metadata": {
    "id": "oycTRkXv1RcR"
   },
   "outputs": [],
   "source": [
    "import twitter\n",
    "import numpy as np\n",
    "import pandas as pd\n",
    "import sklearn as sk"
   ]
  },
  {
   "cell_type": "code",
   "execution_count": 3,
   "metadata": {
    "id": "TVqNYdA32H_5"
   },
   "outputs": [],
   "source": [
    "# keys\n",
    "api_key = ''\n",
    "api_secrets = ''\n",
    "access_token = ''\n",
    "access_secret = ''\n",
    " \n",
    "# Authenticate to Twitter\n",
    "\n",
    "\n",
    "api = twitter.Api(consumer_key=api_key,\n",
    "                  consumer_secret=api_secrets,\n",
    "                  access_token_key=acccess_token,\n",
    "                  access_token_secret=acess_secret)"
   ]
  },
  {
   "cell_type": "code",
   "execution_count": 5,
   "metadata": {
    "id": "Z61zlQcv2UDN"
   },
   "outputs": [],
   "source": [
    "# account to scrape\n",
    "df = pd.DataFrame(api.GetUserTimeline(screen_name='DKSportsbook'))"
   ]
  },
  {
   "cell_type": "code",
   "execution_count": null,
   "metadata": {
    "id": "uGF2wr69CLMQ"
   },
   "outputs": [],
   "source": []
  },
  {
   "cell_type": "code",
   "execution_count": 6,
   "metadata": {
    "id": "JaxBYbT3EMim"
   },
   "outputs": [],
   "source": [
    "import re\n",
    "# df.rename(columns={tweets})\n",
    "df.columns =['tweets']"
   ]
  },
  {
   "cell_type": "code",
   "execution_count": 7,
   "metadata": {
    "colab": {
     "base_uri": "https://localhost:8080/"
    },
    "id": "dxPFP7jjFjzW",
    "outputId": "292382cc-59bd-4c28-b22f-c3c0569b7b84"
   },
   "outputs": [
    {
     "data": {
      "text/plain": [
       "twitter.models.Status"
      ]
     },
     "execution_count": 7,
     "metadata": {},
     "output_type": "execute_result"
    }
   ],
   "source": [
    "type(df['tweets'][1])"
   ]
  },
  {
   "cell_type": "code",
   "execution_count": 8,
   "metadata": {
    "id": "fgFh7U7zGAn3"
   },
   "outputs": [],
   "source": [
    "df.tweets = df.tweets.astype('string')\n"
   ]
  },
  {
   "cell_type": "code",
   "execution_count": 9,
   "metadata": {
    "id": "VoXA79_uHHJs"
   },
   "outputs": [],
   "source": [
    "df[['tweets', 'text']] = df['tweets'].str.split('text', 1, expand=True)"
   ]
  },
  {
   "cell_type": "code",
   "execution_count": 10,
   "metadata": {
    "id": "xpRhFPazIJps"
   },
   "outputs": [],
   "source": [
    "df1=df['text']"
   ]
  },
  {
   "cell_type": "code",
   "execution_count": 11,
   "metadata": {
    "colab": {
     "base_uri": "https://localhost:8080/"
    },
    "id": "481_jOXAL0tF",
    "outputId": "42b11749-67f2-4105-b38c-53b32142daa3"
   },
   "outputs": [
    {
     "data": {
      "text/plain": [
       "0     \": \"Raiders bettors https://t.co/bGGYVd8MxL\", ...\n",
       "1     \": \"PeoplesParlay\"}], \"id\": 156841131643962982...\n",
       "2     \": \"Patrick Mahomes already with FIVE touchdow...\n",
       "3     \": \"IND/HOU SGP UPDATE\\n\\nIf the Texans/Colts ...\n",
       "4     \": \"\\u201cWe go as Zeke goes.\\u201d -Jerry Jon...\n",
       "5     \": \"DANNY FREAKING DIMES \\n\\nhttps://t.co/uJEw...\n",
       "6     \": \"EXCLUSIVE: Vikings, Titans, Chargers and C...\n",
       "7     \": \"IND/HOU SGP UPDATE\\n\\nIf the Texans/Colts ...\n",
       "8     \": \"Green Bay Packers vs. Justin Jefferson  ht...\n",
       "9     \": \"EarlyWin\"}], \"id\": 1569076619943284738, \"i...\n",
       "10    \": \"EarlyWin\"}], \"id\": 1569074557734256642, \"i...\n",
       "11    \": \"Who's won a bet today?\\n\\nDrop those winni...\n",
       "12    \": \"EarlyWin\"}], \"id\": 1569067834109575171, \"i...\n",
       "13    \": \"EarlyWin\"}], \"id\": 1569066163790815239, \"i...\n",
       "14    \": \"CHRIS BOSWELL CALLS GAME. FINALLY.  https:...\n",
       "15    \": \"Mitch Trubisky seeing another crucial doin...\n",
       "16    \": \"Today\\u2019s Witching Hour https://t.co/f1...\n",
       "17    \": \"Bengals bettors \\ud83e\\udd2e https://t.co/...\n",
       "18    \": \"EarlyWin\"}], \"id\": 1569058753269358600, \"i...\n",
       "19    \": \"EarlyWin\"}], \"id\": 1569057353311440899, \"i...\n",
       "Name: text, dtype: string"
      ]
     },
     "execution_count": 11,
     "metadata": {},
     "output_type": "execute_result"
    }
   ],
   "source": [
    "# df of tweets for mentioned account\n",
    "df1"
   ]
  },
  {
   "cell_type": "code",
   "execution_count": 12,
   "metadata": {
    "id": "q_lLF-0fMRD3"
   },
   "outputs": [],
   "source": [
    "#string cleaning \n",
    "df1 = pd.DataFrame(df1)\n",
    "df1[['text', 'rest']] = df['text'].str.split('urls', 1, expand=True)"
   ]
  },
  {
   "cell_type": "code",
   "execution_count": 13,
   "metadata": {
    "id": "xRzjxWu7PC5-"
   },
   "outputs": [],
   "source": [
    "# optional keyw word lookup\n",
    "df2 = df1[(df1['text'].str.lower()).str.contains(\"nfl\")]"
   ]
  },
  {
   "cell_type": "code",
   "execution_count": 14,
   "metadata": {
    "id": "qqchYHniwLFM"
   },
   "outputs": [],
   "source": [
    "# downloading data\n",
    "from pathlib import Path  \n",
    "filepath = Path('~.../data')  \n",
    "filepath.parent.mkdir(parents=True, exist_ok=True)  \n",
    "df1.to_csv(filepath)  "
   ]
  },
  {
   "cell_type": "code",
   "execution_count": 15,
   "metadata": {
    "colab": {
     "base_uri": "https://localhost:8080/"
    },
    "id": "exl6DFNGPGcB",
    "outputId": "3b89bbf7-641d-4faa-e61b-e5b2b54029c4"
   },
   "outputs": [
    {
     "data": {
      "text/plain": [
       "Series([], Name: text, dtype: string)"
      ]
     },
     "execution_count": 15,
     "metadata": {},
     "output_type": "execute_result"
    }
   ],
   "source": [
    "df2['text'][:]"
   ]
  },
  {
   "cell_type": "code",
   "execution_count": 16,
   "metadata": {
    "colab": {
     "base_uri": "https://localhost:8080/",
     "height": 169
    },
    "id": "J_NB2zDjP2P0",
    "outputId": "eb86fb19-d42f-4420-d3b8-974c640ae03d"
   },
   "outputs": [
    {
     "data": {
      "text/plain": [
       "(20, 2)"
      ]
     },
     "execution_count": 16,
     "metadata": {},
     "output_type": "execute_result"
    }
   ],
   "source": [
    "df1.shape"
   ]
  },
  {
   "cell_type": "code",
   "execution_count": 17,
   "metadata": {
    "id": "SCYn2v-KIGaz"
   },
   "outputs": [],
   "source": [
    "#will eventually grow the arrow with tweets from other popular betting accounts"
   ]
  }
 ],
 "metadata": {
  "colab": {
   "provenance": []
  },
  "kernelspec": {
   "display_name": "Python 3 (ipykernel)",
   "language": "python",
   "name": "python3"
  },
  "language_info": {
   "codemirror_mode": {
    "name": "ipython",
    "version": 3
   },
   "file_extension": ".py",
   "mimetype": "text/x-python",
   "name": "python",
   "nbconvert_exporter": "python",
   "pygments_lexer": "ipython3",
   "version": "3.9.12"
  }
 },
 "nbformat": 4,
 "nbformat_minor": 1
}
